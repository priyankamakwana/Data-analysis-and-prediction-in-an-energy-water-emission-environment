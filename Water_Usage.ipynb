{
  "nbformat": 4,
  "nbformat_minor": 0,
  "metadata": {
    "colab": {
      "name": "Water Usage.ipynb",
      "version": "0.3.2",
      "provenance": [],
      "include_colab_link": true
    },
    "kernelspec": {
      "name": "python3",
      "display_name": "Python 3"
    },
    "accelerator": "GPU"
  },
  "cells": [
    {
      "cell_type": "markdown",
      "metadata": {
        "id": "view-in-github",
        "colab_type": "text"
      },
      "source": [
        "<a href=\"https://colab.research.google.com/github/priyankamakwana/Data-analysis-and-prediction-in-an-energy-water-emission-environment/blob/master/Water_Usage.ipynb\" target=\"_parent\"><img src=\"https://colab.research.google.com/assets/colab-badge.svg\" alt=\"Open In Colab\"/></a>"
      ]
    },
    {
      "metadata": {
        "id": "5zGadbQi7BRv",
        "colab_type": "code",
        "outputId": "a4eedca1-6ff5-45a5-e504-4c6ccb640ea1",
        "colab": {
          "base_uri": "https://localhost:8080/",
          "height": 374
        }
      },
      "cell_type": "code",
      "source": [
        "!pip install -U -q PyDrive\n",
        " \n",
        "from pydrive.auth import GoogleAuth\n",
        "from pydrive.drive import GoogleDrive\n",
        "from google.colab import auth\n",
        "from oauth2client.client import GoogleCredentials\n",
        " \n",
        "# 1. Authenticate and create the PyDrive client.\n",
        "auth.authenticate_user()\n",
        "gauth = GoogleAuth()\n",
        "gauth.credentials = GoogleCredentials.get_application_default()\n",
        "drive = GoogleDrive(gauth)\n",
        "file_list = drive.ListFile({'q': \"'1otOTvDuni4Rg76ryPmXciSQa8CXcskIC' in parents and trashed=false\"}).GetList()\n",
        "for file1 in file_list:\n",
        "  print('title: %s, id: %s' % (file1['title'], file1['id']))"
      ],
      "execution_count": 0,
      "outputs": [
        {
          "output_type": "stream",
          "text": [
            "\u001b[?25l\r\u001b[K    1% |▎                               | 10kB 20.0MB/s eta 0:00:01\r\u001b[K    2% |▋                               | 20kB 5.1MB/s eta 0:00:01\r\u001b[K    3% |█                               | 30kB 7.3MB/s eta 0:00:01\r\u001b[K    4% |█▎                              | 40kB 4.6MB/s eta 0:00:01\r\u001b[K    5% |█▋                              | 51kB 5.6MB/s eta 0:00:01\r\u001b[K    6% |██                              | 61kB 6.5MB/s eta 0:00:01\r\u001b[K    7% |██▎                             | 71kB 7.4MB/s eta 0:00:01\r\u001b[K    8% |██▋                             | 81kB 8.3MB/s eta 0:00:01\r\u001b[K    9% |███                             | 92kB 9.1MB/s eta 0:00:01\r\u001b[K    10% |███▎                            | 102kB 7.4MB/s eta 0:00:01\r\u001b[K    11% |███▋                            | 112kB 7.5MB/s eta 0:00:01\r\u001b[K    12% |████                            | 122kB 9.9MB/s eta 0:00:01\r\u001b[K    13% |████▎                           | 133kB 9.8MB/s eta 0:00:01\r\u001b[K    14% |████▋                           | 143kB 17.4MB/s eta 0:00:01\r\u001b[K    15% |█████                           | 153kB 17.5MB/s eta 0:00:01\r\u001b[K    16% |█████▎                          | 163kB 17.7MB/s eta 0:00:01\r\u001b[K    17% |█████▋                          | 174kB 17.2MB/s eta 0:00:01\r\u001b[K    18% |██████                          | 184kB 17.2MB/s eta 0:00:01\r\u001b[K    19% |██████▎                         | 194kB 17.1MB/s eta 0:00:01\r\u001b[K    20% |██████▋                         | 204kB 19.8MB/s eta 0:00:01\r\u001b[K    21% |███████                         | 215kB 19.9MB/s eta 0:00:01\r\u001b[K    22% |███████▎                        | 225kB 20.1MB/s eta 0:00:01\r\u001b[K    23% |███████▋                        | 235kB 20.5MB/s eta 0:00:01\r\u001b[K    24% |████████                        | 245kB 20.5MB/s eta 0:00:01\r\u001b[K    25% |████████▎                       | 256kB 20.6MB/s eta 0:00:01\r\u001b[K    26% |████████▋                       | 266kB 19.5MB/s eta 0:00:01\r\u001b[K    27% |█████████                       | 276kB 20.3MB/s eta 0:00:01\r\u001b[K    29% |█████████▎                      | 286kB 20.2MB/s eta 0:00:01\r\u001b[K    30% |█████████▋                      | 296kB 19.8MB/s eta 0:00:01\r\u001b[K    31% |██████████                      | 307kB 43.4MB/s eta 0:00:01\r\u001b[K    32% |██████████▎                     | 317kB 44.2MB/s eta 0:00:01\r\u001b[K    33% |██████████▋                     | 327kB 43.6MB/s eta 0:00:01\r\u001b[K    34% |███████████                     | 337kB 43.3MB/s eta 0:00:01\r\u001b[K    35% |███████████▎                    | 348kB 39.1MB/s eta 0:00:01\r\u001b[K    36% |███████████▋                    | 358kB 39.4MB/s eta 0:00:01\r\u001b[K    37% |████████████                    | 368kB 44.5MB/s eta 0:00:01\r\u001b[K    38% |████████████▎                   | 378kB 45.9MB/s eta 0:00:01\r\u001b[K    39% |████████████▋                   | 389kB 47.6MB/s eta 0:00:01\r\u001b[K    40% |█████████████                   | 399kB 40.2MB/s eta 0:00:01\r\u001b[K    41% |█████████████▎                  | 409kB 39.8MB/s eta 0:00:01\r\u001b[K    42% |█████████████▋                  | 419kB 36.5MB/s eta 0:00:01\r\u001b[K    43% |██████████████                  | 430kB 35.6MB/s eta 0:00:01\r\u001b[K    44% |██████████████▎                 | 440kB 35.8MB/s eta 0:00:01\r\u001b[K    45% |██████████████▋                 | 450kB 38.1MB/s eta 0:00:01\r\u001b[K    46% |███████████████                 | 460kB 37.7MB/s eta 0:00:01\r\u001b[K    47% |███████████████▎                | 471kB 38.0MB/s eta 0:00:01\r\u001b[K    48% |███████████████▋                | 481kB 38.0MB/s eta 0:00:01\r\u001b[K    49% |████████████████                | 491kB 37.5MB/s eta 0:00:01\r\u001b[K    50% |████████████████▎               | 501kB 46.3MB/s eta 0:00:01\r\u001b[K    51% |████████████████▋               | 512kB 44.0MB/s eta 0:00:01\r\u001b[K    52% |█████████████████               | 522kB 49.3MB/s eta 0:00:01\r\u001b[K    53% |█████████████████▎              | 532kB 51.5MB/s eta 0:00:01\r\u001b[K    54% |█████████████████▋              | 542kB 26.8MB/s eta 0:00:01\r\u001b[K    55% |██████████████████              | 552kB 26.5MB/s eta 0:00:01\r\u001b[K    57% |██████████████████▎             | 563kB 25.6MB/s eta 0:00:01\r\u001b[K    58% |██████████████████▋             | 573kB 25.2MB/s eta 0:00:01\r\u001b[K    59% |███████████████████             | 583kB 25.0MB/s eta 0:00:01\r\u001b[K    60% |███████████████████▎            | 593kB 24.6MB/s eta 0:00:01\r\u001b[K    61% |███████████████████▋            | 604kB 24.5MB/s eta 0:00:01\r\u001b[K    62% |████████████████████            | 614kB 25.4MB/s eta 0:00:01\r\u001b[K    63% |████████████████████▎           | 624kB 25.0MB/s eta 0:00:01\r\u001b[K    64% |████████████████████▋           | 634kB 24.9MB/s eta 0:00:01\r\u001b[K    65% |█████████████████████           | 645kB 44.9MB/s eta 0:00:01\r\u001b[K    66% |█████████████████████▎          | 655kB 47.2MB/s eta 0:00:01\r\u001b[K    67% |█████████████████████▋          | 665kB 40.7MB/s eta 0:00:01\r\u001b[K    68% |██████████████████████          | 675kB 41.4MB/s eta 0:00:01\r\u001b[K    69% |██████████████████████▎         | 686kB 42.3MB/s eta 0:00:01\r\u001b[K    70% |██████████████████████▋         | 696kB 43.6MB/s eta 0:00:01\r\u001b[K    71% |███████████████████████         | 706kB 44.2MB/s eta 0:00:01\r\u001b[K    72% |███████████████████████▎        | 716kB 44.8MB/s eta 0:00:01\r\u001b[K    73% |███████████████████████▋        | 727kB 44.5MB/s eta 0:00:01\r\u001b[K    74% |████████████████████████        | 737kB 44.9MB/s eta 0:00:01\r\u001b[K    75% |████████████████████████▎       | 747kB 45.6MB/s eta 0:00:01\r\u001b[K    76% |████████████████████████▋       | 757kB 45.6MB/s eta 0:00:01\r\u001b[K    77% |████████████████████████▉       | 768kB 58.1MB/s eta 0:00:01\r\u001b[K    78% |█████████████████████████▏      | 778kB 57.8MB/s eta 0:00:01\r\u001b[K    79% |█████████████████████████▌      | 788kB 56.0MB/s eta 0:00:01\r\u001b[K    80% |█████████████████████████▉      | 798kB 55.1MB/s eta 0:00:01\r\u001b[K    81% |██████████████████████████▏     | 808kB 53.6MB/s eta 0:00:01\r\u001b[K    82% |██████████████████████████▌     | 819kB 52.5MB/s eta 0:00:01\r\u001b[K    83% |██████████████████████████▉     | 829kB 53.1MB/s eta 0:00:01\r\u001b[K    85% |███████████████████████████▏    | 839kB 52.3MB/s eta 0:00:01\r\u001b[K    86% |███████████████████████████▌    | 849kB 51.3MB/s eta 0:00:01\r\u001b[K    87% |███████████████████████████▉    | 860kB 46.1MB/s eta 0:00:01\r\u001b[K    88% |████████████████████████████▏   | 870kB 45.9MB/s eta 0:00:01\r\u001b[K    89% |████████████████████████████▌   | 880kB 46.9MB/s eta 0:00:01\r\u001b[K    90% |████████████████████████████▉   | 890kB 48.0MB/s eta 0:00:01\r\u001b[K    91% |█████████████████████████████▏  | 901kB 48.5MB/s eta 0:00:01\r\u001b[K    92% |█████████████████████████████▌  | 911kB 49.1MB/s eta 0:00:01\r\u001b[K    93% |█████████████████████████████▉  | 921kB 49.7MB/s eta 0:00:01\r\u001b[K    94% |██████████████████████████████▏ | 931kB 49.8MB/s eta 0:00:01\r\u001b[K    95% |██████████████████████████████▌ | 942kB 49.3MB/s eta 0:00:01\r\u001b[K    96% |██████████████████████████████▉ | 952kB 48.5MB/s eta 0:00:01\r\u001b[K    97% |███████████████████████████████▏| 962kB 54.9MB/s eta 0:00:01\r\u001b[K    98% |███████████████████████████████▌| 972kB 54.1MB/s eta 0:00:01\r\u001b[K    99% |███████████████████████████████▉| 983kB 52.4MB/s eta 0:00:01\r\u001b[K    100% |████████████████████████████████| 993kB 21.0MB/s \n",
            "\u001b[?25h  Building wheel for PyDrive (setup.py) ... \u001b[?25ldone\n",
            "\u001b[?25htitle: Master's Project.ipynb, id: 1SB6UmY5H5E1_uXOrbFOO6GO6OEGVu9ou\n",
            "title: cooling_detail_2014.xlsx, id: 1EGmzoPtvw_co0VcW_vofsMFBAMyW3rEl\n",
            "title: Master's Project.ipynb, id: 17hwuJZXfz9uCRF_U4XhD18HulxrRowgb\n",
            "title: VGG16.ipynb, id: 1izrvRuqohO6SNGIWoQVSRvFnkduy6pSH\n",
            "title: MaskRCNN.ipynb, id: 1WVfH7sWY4GzGffRezvNclH_bRCn7X6ud\n",
            "title: new cars_3.zip, id: 13Du2JUMQtGbv6W9Ab2R0238epf_GxNOo\n",
            "title: new new cars.zip, id: 1CzraghJaUPymHVWaUc8jhYNEuLyzQ5ty\n",
            "title: new cars_3_categories.zip, id: 1rQ_iDx7CxnoRkHVB9zSzevXDX2w57k2E\n",
            "title: new cars-validate.zip, id: 1bwcaOLd76ZoyL9D3EAUiEvq1tLQon9FK\n",
            "title: new cars-new.zip, id: 1YepL_wNaT93awuygYY_XdQd7i2Zb_yuv\n",
            "title: CarParking, id: 1KdoWe622RP0kOrQ1bkxyhNDvwUFo9h_V\n",
            "title: Untitled1.ipynb, id: 1yJ-5QmoZDkNUiuLXn-pJSwGL6mloJ4Kc\n",
            "title: MiniProject-3.ipynb, id: 1hQtnxMn5TrDp3Hqk0RfA4CstNldRXMJC\n",
            "title: Untitled0.ipynb, id: 1lIa8Y6UqJEqefP44Qk_3c9eerq35LpQK\n",
            "title: yelp-2.ipynb, id: 1OQgOKyYctVFEJNLzIb66v0nuQh_DB6h-\n",
            "title: network_intrusion_data.csv, id: 1OTA2o-eNmCrQIx_AxWsEP644Hi43AmdQ\n",
            "title: drive.ipynb, id: 1DrEk5If3kVLb92Qc-ZiDVwOaUyVvP-ky\n",
            "title: reviewgrouped.tsv, id: 1MYJlncWUQD11fvIN27iWTC2r0szm5n8C\n",
            "title: Yelp Project - 2, id: 1D83GIi6562AE_OJMG7E8I0jkkkbA9Pww\n"
          ],
          "name": "stdout"
        }
      ]
    },
    {
      "metadata": {
        "id": "HzvC08lm_iUv",
        "colab_type": "code",
        "colab": {}
      },
      "cell_type": "code",
      "source": [
        "cooling_data_drive = drive.CreateFile({'id': '1EGmzoPtvw_co0VcW_vofsMFBAMyW3rEl'})\n",
        "cooling_data_drive.GetContentFile('cooling_detail_2014.xlsx')"
      ],
      "execution_count": 0,
      "outputs": []
    },
    {
      "metadata": {
        "id": "LZ1fGkmCByEv",
        "colab_type": "code",
        "colab": {}
      },
      "cell_type": "code",
      "source": [
        "import os\n",
        "import pandas as pd"
      ],
      "execution_count": 0,
      "outputs": []
    },
    {
      "metadata": {
        "id": "zuovGxBLAXGm",
        "colab_type": "code",
        "outputId": "de0de61d-2228-4a09-b6fd-c831054d04f4",
        "colab": {
          "base_uri": "https://localhost:8080/",
          "height": 34
        }
      },
      "cell_type": "code",
      "source": [
        "path=os.getcwd() #+ \"\\Data\"\n",
        "path\n",
        "files=os.listdir(path)\n",
        "files"
      ],
      "execution_count": 0,
      "outputs": [
        {
          "output_type": "execute_result",
          "data": {
            "text/plain": [
              "['.config', 'adc.json', 'cooling_detail_2014.xlsx', 'sample_data']"
            ]
          },
          "metadata": {
            "tags": []
          },
          "execution_count": 4
        }
      ]
    },
    {
      "metadata": {
        "id": "OojiL-b-CHh5",
        "colab_type": "code",
        "outputId": "efe12406-fa4c-46e7-acb9-8a12d2b6f1d4",
        "colab": {
          "base_uri": "https://localhost:8080/",
          "height": 34
        }
      },
      "cell_type": "code",
      "source": [
        "files_xls = [f for f in files if f[-4:] == 'xlsx']\n",
        "files_xls"
      ],
      "execution_count": 0,
      "outputs": [
        {
          "output_type": "execute_result",
          "data": {
            "text/plain": [
              "['cooling_detail_2014.xlsx']"
            ]
          },
          "metadata": {
            "tags": []
          },
          "execution_count": 5
        }
      ]
    },
    {
      "metadata": {
        "id": "dicUW-xlCQpK",
        "colab_type": "code",
        "outputId": "85b955ca-1466-4639-e185-ef8a0fa6bf76",
        "colab": {
          "base_uri": "https://localhost:8080/",
          "height": 34
        }
      },
      "cell_type": "code",
      "source": [
        "df_cooling_detail=pd.DataFrame()\n",
        "\n",
        "for f in files_xls:\n",
        "    data = pd.read_excel(f, sheet_name=0, header=0, encoding=\"utf-8\")\n",
        "    df_cooling_detail = df_cooling_detail.append(data)\n",
        "#Reading data from excel\n",
        "#df_cooling_detail = pd.read_excel('cooling_detail_2014.xlsx', sheet_name=0, header=0, , encoding=\"utf-8\")\n",
        "df_cooling_detail.shape"
      ],
      "execution_count": 0,
      "outputs": [
        {
          "output_type": "execute_result",
          "data": {
            "text/plain": [
              "(83016, 70)"
            ]
          },
          "metadata": {
            "tags": []
          },
          "execution_count": 6
        }
      ]
    }
  ]
}